{
 "cells": [
  {
   "cell_type": "code",
   "execution_count": 2,
   "metadata": {},
   "outputs": [
    {
     "name": "stdout",
     "output_type": "stream",
     "text": [
      "zarr 2.4.0 numcodecs 0.6.4\n"
     ]
    }
   ],
   "source": [
    "import numpy as np\n",
    "import scipy \n",
    "import pandas as pd\n",
    "import matplotlib.pyplot as plt\n",
    "%matplotlib inline\n",
    "import h5py\n",
    "import allel\n",
    "import seaborn as sns\n",
    "import sys\n",
    "import os\n",
    "sns.set_style(\"white\")\n",
    "sns.set_style(\"ticks\")\n",
    "sns.set_context(\"notebook\")\n",
    "\n",
    "import zarr\n",
    "import numcodecs\n",
    "print(\"zarr\", zarr.__version__, \"numcodecs\", numcodecs.__version__)\n",
    "import watermark"
   ]
  },
  {
   "cell_type": "code",
   "execution_count": 48,
   "metadata": {},
   "outputs": [
    {
     "name": "stdout",
     "output_type": "stream",
     "text": [
      "It exists\n"
     ]
    }
   ],
   "source": [
    "if os.path.exists(zarr_path) & os.path.exists(vcf_path):\n",
    "    print (\"It exists\")\n",
    "else:\n",
    "    print (\"It doesn't exist\")\n",
    "    "
   ]
  },
  {
   "cell_type": "code",
   "execution_count": 158,
   "metadata": {},
   "outputs": [],
   "source": [
    "def calculateHaplotypeStatistics(popname):\n",
    "    print(\"Now processing {}\".format(popname))\n",
    "    for i in range(1,6):\n",
    "        print(\"Now Processing Chromosome {}\".format(i))\n",
    "        population = str(popname)\n",
    "\n",
    "        chrom = str(i)\n",
    "\n",
    "        \n",
    "        #########\n",
    "        zarr_path = (\"merged.bi.lmiss90.ed.chr\"+chrom+\".vcf.gz.zarr/\")#modify according to vcf file\n",
    "        if os.path.exists(zarr_path) & os.path.isdir(zarr_path):\n",
    "            print(\"Zarr already exists\")\n",
    "        else:\n",
    "            zarr_path = (\"merged.bi.lmiss90.ed.chr\"+chrom+\".vcf.gz.zarr/\")\n",
    "            #herbs_nAm.filtered_snps_final.PASS.bi.QDGt20.MQGt55.SORLt2.depthLt30x.Chr5.HaplotypeData.USA.vcf.gz\n",
    "            vcf_path = (\"merged.bi.lmiss90.ed.chr\"+chrom+\".vcf.gz\") #modify acording to vcf file\n",
    "            allel.vcf_to_zarr(vcf_path, zarr_path, fields = \"*\", overwrite = True, log = sys.stdout, group = chrom, region = chrom)\n",
    "        \n",
    "        \n",
    "        #########\n",
    "        callset = zarr.open_group(zarr_path , mode=\"r\")\n",
    "        gt_zarr = allel.GenotypeDaskArray(callset[chrom+'/calldata/GT'])\n",
    "        pos = callset[chrom]['variants/POS'][:]\n",
    "        samples_meta_file = \"merged.bi.lmiss90.ed.allChr.bgl.vcf.indPops.txt\"\n",
    "        colnames = ['ind', 'pop']\n",
    "        samples = pd.read_csv(samples_meta_file, sep =\"\\t\", header=None, names = colnames)\n",
    "        print(\"There are :{} individuals\" .format(samples.groupby('pop').size()[population]))\n",
    "        loc_pop_samples = samples[samples['pop']== population].index.values\n",
    "\n",
    "        gt_pop = gt_zarr.take(loc_pop_samples, axis=1)\n",
    "        ac_pop = gt_pop.count_alleles(max_allele=1).compute()\n",
    "        loc_pop_seg_variants = ac_pop.is_segregating() & ac_pop.is_biallelic_01()\n",
    "        ac_pop_seg = ac_pop.compress(loc_pop_seg_variants, axis = 0)\n",
    "        gt_pop_seg = gt_pop.compress(loc_pop_seg_variants, axis =0)\n",
    "\n",
    "        h_pop_seg = gt_pop_seg.to_haplotypes().compute()\n",
    "        pos_pop_seg = pos.compress(loc_pop_seg_variants, axis = 0)\n",
    "        np.count_nonzero(np.diff(pos_pop_seg==0))\n",
    "\n",
    "        #### nSL ##################     \n",
    "        nsl_pop_raw = allel.nsl(h_pop_seg,)\n",
    "        nsl_pop_std, _ = allel.standardize_by_allele_count(nsl_pop_raw, ac_pop_seg[:,1])\n",
    "        dataset = pandas.DataFrame({'pos': pos_pop_seg[~np.isnan(nsl_pop_std)], 'nsl':np.abs(nsl_pop_std[~np.isnan(nsl_pop_std)])}, columns = ['pos', 'nsl'])\n",
    "        dataset=dataset.round(4)\n",
    "        dataset.to_csv(population +\"_chr\"+chrom+\"_stdNsl.txt\",sep=\"\\t\", index = False)\n",
    "\n",
    "        #### Hap div ##############\n",
    "        hap_div=allel.moving_haplotype_diversity(h_pop_seg, 100, start=0, \n",
    "                                     stop=None,\n",
    "                                     step=None)\n",
    "        hap_div_pos =pos_pop_seg[0::100][0:hap_div.shape[0]]\n",
    "\n",
    "        dataset = pandas.DataFrame({'pos': hap_div_pos, 'hap_div':hap_div}, columns = ['pos', 'hap_div'])\n",
    "        dataset=dataset.round(4)\n",
    "        dataset.to_csv(population +\"_chr\"+chrom+\"_hapDiv.txt\",sep=\"\\t\", index = False)\n",
    "\n",
    "        #### Garud H Statistics ######\n",
    "        garudH = allel.moving_garud_h(h_pop_seg, 500, start=0, stop=None, step=10)\n",
    "        garudH_Positions = (pos_pop_seg[0::10][0:garudH[3].shape[0]])\n",
    "        \n",
    "        garudH_chromosome = np.repeat(i, garudH_Positions.shape[0])\n",
    "        dataset = pandas.DataFrame({'CHROM': garudH_chromosome, 'START': garudH_Positions, 'H1':garudH[0], 'H12': garudH[1], 'H2_H1': garudH[3]}, columns = ['CHROM','START', 'H1', 'H12', 'H2_H1'])\n",
    "        dataset=dataset.round(4)\n",
    "        dataset.to_csv(population +\"_chr\"+chrom+\"_GarudStats.txt\",sep=\"\\t\", index = False)\n",
    "    \n",
    "    print(\"{} done\".format(popname))   "
   ]
  },
  {
   "cell_type": "code",
   "execution_count": null,
   "metadata": {
    "scrolled": false
   },
   "outputs": [],
   "source": [
    "poplist = [\"MISJ\", \"OHML\", \"OHPR\", \"INRC\", \"NJSC\"]\n",
    "for pop in poplist:\n",
    "    calculateHaplotypeStatistics(pop)"
   ]
  },
  {
   "cell_type": "code",
   "execution_count": null,
   "metadata": {},
   "outputs": [],
   "source": []
  }
 ],
 "metadata": {
  "kernelspec": {
   "display_name": "Python 3",
   "language": "python",
   "name": "python3"
  },
  "language_info": {
   "codemirror_mode": {
    "name": "ipython",
    "version": 3
   },
   "file_extension": ".py",
   "mimetype": "text/x-python",
   "name": "python",
   "nbconvert_exporter": "python",
   "pygments_lexer": "ipython3",
   "version": "3.7.3"
  }
 },
 "nbformat": 4,
 "nbformat_minor": 4
}
